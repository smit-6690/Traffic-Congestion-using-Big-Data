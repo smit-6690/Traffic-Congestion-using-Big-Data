{
 "cells": [
  {
   "cell_type": "code",
   "execution_count": 1,
   "id": "614d224a",
   "metadata": {},
   "outputs": [
    {
     "name": "stdout",
     "output_type": "stream",
     "text": [
      "✅ File loaded successfully\n",
      "🔍 Shape of dataset: (59708199, 52)\n",
      "🔍 Columns: ['Timestamp', 'StationID', 'District', 'Freeway', 'Direction', 'LaneType', 'StationLength', 'Samples', 'PercentObserved', 'TotalFlow', 'AvgOccupancy', 'AvgSpeed', 'Lane1_Samples', 'Lane1_Flow', 'Lane1_Occupancy', 'Lane1_Speed', 'Lane1_Observed', 'Lane2_Samples', 'Lane2_Flow', 'Lane2_Occupancy', 'Lane2_Speed', 'Lane2_Observed', 'Lane3_Samples', 'Lane3_Flow', 'Lane3_Occupancy', 'Lane3_Speed', 'Lane3_Observed', 'Lane4_Samples', 'Lane4_Flow', 'Lane4_Occupancy', 'Lane4_Speed', 'Lane4_Observed', 'Lane5_Samples', 'Lane5_Flow', 'Lane5_Occupancy', 'Lane5_Speed', 'Lane5_Observed', 'Lane6_Samples', 'Lane6_Flow', 'Lane6_Occupancy', 'Lane6_Speed', 'Lane6_Observed', 'Lane7_Samples', 'Lane7_Flow', 'Lane7_Occupancy', 'Lane7_Speed', 'Lane7_Observed', 'Lane8_Samples', 'Lane8_Flow', 'Lane8_Occupancy', 'Lane8_Speed', 'Lane8_Observed']\n"
     ]
    }
   ],
   "source": [
    "import pandas as pd\n",
    "import os\n",
    "\n",
    "# Path to the merged CSV\n",
    "file_path = os.path.expanduser(\"~/Desktop/pems_5min_combined.csv\")\n",
    "\n",
    "# Read the CSV file\n",
    "df = pd.read_csv(file_path)\n",
    "\n",
    "print(\"✅ File loaded successfully\")\n",
    "print(\"🔍 Shape of dataset:\", df.shape)\n",
    "print(\"🔍 Columns:\", df.columns.tolist())\n"
   ]
  },
  {
   "cell_type": "code",
   "execution_count": 2,
   "id": "f4e1912f",
   "metadata": {},
   "outputs": [
    {
     "name": "stdout",
     "output_type": "stream",
     "text": [
      "✅ Empty rows removed. New shape: (36428040, 52)\n"
     ]
    }
   ],
   "source": [
    "# Drop completely empty rows (all NaNs)\n",
    "df.dropna(how='all', inplace=True)\n",
    "\n",
    "# Drop rows where even lane flow/speed data is all missing\n",
    "lane_speed_cols = [f'Lane{i}_Speed' for i in range(1, 9)]\n",
    "df.dropna(subset=lane_speed_cols, how='all', inplace=True)\n",
    "\n",
    "print(\"✅ Empty rows removed. New shape:\", df.shape)\n"
   ]
  },
  {
   "cell_type": "code",
   "execution_count": 3,
   "id": "cc9ae3b7",
   "metadata": {},
   "outputs": [
    {
     "name": "stdout",
     "output_type": "stream",
     "text": [
      "✅ Missing values handled\n"
     ]
    }
   ],
   "source": [
    "# Option 1: Fill missing numeric values with 0\n",
    "df.fillna(0, inplace=True)\n",
    "\n",
    "# Option 2 (Better): Use mean fill only for numeric lane metrics\n",
    "# You can skip if Option 1 is enough\n",
    "\n",
    "# for col in lane_speed_cols:\n",
    "#     df[col].fillna(df[col].mean(), inplace=True)\n",
    "\n",
    "print(\"✅ Missing values handled\")\n"
   ]
  },
  {
   "cell_type": "code",
   "execution_count": 5,
   "id": "47eb5180",
   "metadata": {},
   "outputs": [
    {
     "name": "stdout",
     "output_type": "stream",
     "text": [
      "✅ Timestamp converted. Date range:\n",
      "2025-01-01 00:00:00 to 2025-03-01 23:55:00\n"
     ]
    }
   ],
   "source": [
    "df['Timestamp'] = pd.to_datetime(df['Timestamp'], errors='coerce')\n",
    "\n",
    "# Remove rows where timestamp couldn't be parsed\n",
    "df.dropna(subset=['Timestamp'], inplace=True)\n",
    "\n",
    "print(\"✅ Timestamp converted. Date range:\")\n",
    "print(df['Timestamp'].min(), \"to\", df['Timestamp'].max())\n"
   ]
  },
  {
   "cell_type": "code",
   "execution_count": 11,
   "id": "4074eeeb",
   "metadata": {},
   "outputs": [],
   "source": [
    "df = df[df['LaneType'] == 'ML']\n"
   ]
  },
  {
   "cell_type": "code",
   "execution_count": 12,
   "id": "ac1a291b",
   "metadata": {},
   "outputs": [],
   "source": [
    "final_columns = [\n",
    "    'Timestamp', 'StationID', 'Freeway', 'Direction', 'LaneType',\n",
    "    'TotalFlow', 'AvgOccupancy', 'AvgSpeed'\n",
    "]\n",
    "\n",
    "df_cleaned = df[final_columns]\n"
   ]
  },
  {
   "cell_type": "code",
   "execution_count": 13,
   "id": "c9e34fd2",
   "metadata": {},
   "outputs": [],
   "source": [
    "# Remove rows with any negative speed or flow\n",
    "df_cleaned = df_cleaned[(df_cleaned['AvgSpeed'] >= 0) & (df_cleaned['TotalFlow'] >= 0)]\n",
    "\n",
    "# Remove extremely high occupancy (> 1 is invalid)\n",
    "df_cleaned = df_cleaned[df_cleaned['AvgOccupancy'] <= 1]\n"
   ]
  },
  {
   "cell_type": "code",
   "execution_count": 14,
   "id": "7e974ad9",
   "metadata": {},
   "outputs": [],
   "source": [
    "df_cleaned.sort_values(by='Timestamp', inplace=True)\n",
    "df_cleaned.reset_index(drop=True, inplace=True)\n"
   ]
  },
  {
   "cell_type": "code",
   "execution_count": 15,
   "id": "210cf317",
   "metadata": {},
   "outputs": [
    {
     "name": "stdout",
     "output_type": "stream",
     "text": [
      "✅ Final cleaned CSV saved at: /Users/spartan/Desktop/pems_5min_cleaned.csv\n"
     ]
    }
   ],
   "source": [
    "final_path = os.path.expanduser(\"~/Desktop/pems_5min_cleaned.csv\")\n",
    "df_cleaned.to_csv(final_path, index=False)\n",
    "print(\"✅ Final cleaned CSV saved at:\", final_path)\n"
   ]
  },
  {
   "cell_type": "code",
   "execution_count": 16,
   "id": "f3544931",
   "metadata": {},
   "outputs": [
    {
     "name": "stdout",
     "output_type": "stream",
     "text": [
      "✅ Empty rows removed. New shape: (36399420, 8)\n"
     ]
    }
   ],
   "source": [
    "print(\"✅ Empty rows removed. New shape:\", df_cleaned.shape)"
   ]
  },
  {
   "cell_type": "code",
   "execution_count": null,
   "id": "62f9b192",
   "metadata": {},
   "outputs": [],
   "source": []
  }
 ],
 "metadata": {
  "kernelspec": {
   "display_name": "Python 3",
   "language": "python",
   "name": "python3"
  },
  "language_info": {
   "codemirror_mode": {
    "name": "ipython",
    "version": 3
   },
   "file_extension": ".py",
   "mimetype": "text/x-python",
   "name": "python",
   "nbconvert_exporter": "python",
   "pygments_lexer": "ipython3",
   "version": "3.11.11"
  }
 },
 "nbformat": 4,
 "nbformat_minor": 5
}
